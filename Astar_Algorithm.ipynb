{
 "cells": [
  {
   "cell_type": "markdown",
   "metadata": {},
   "source": [
    "## Astar Algorithm Program"
   ]
  },
  {
   "cell_type": "code",
   "execution_count": 15,
   "metadata": {},
   "outputs": [
    {
     "name": "stdout",
     "output_type": "stream",
     "text": [
      "path found in :['A', 'E', 'D', 'G']\n"
     ]
    },
    {
     "data": {
      "text/plain": [
       "['A', 'E', 'D', 'G']"
      ]
     },
     "execution_count": 15,
     "metadata": {},
     "output_type": "execute_result"
    }
   ],
   "source": [
    "def astaralgo(start_node,stop_node):\n",
    "    open_set = set(start_node)\n",
    "    closed_set = set()\n",
    "    g = {}\n",
    "    parents = {}\n",
    "    g[start_node] = 0\n",
    "    parents[start_node] = start_node\n",
    "    \n",
    "    while len(open_set)>0:\n",
    "        n=None\n",
    "        for v in open_set:\n",
    "            if n==None or g[v]+heuristic(v)<g[n]+heuristic(n):\n",
    "                n=v\n",
    "                \n",
    "        if n==stop_node or graph_nodes[n]==None:\n",
    "            pass\n",
    "        else:\n",
    "            for(m,weight) in get_neighbors(n):\n",
    "                if m not in open_set and m not in closed_set:\n",
    "                    open_set.add(m)\n",
    "                    parents[m]=n\n",
    "                    g[m]=g[n]+weight\n",
    "                else:\n",
    "                    if g[m]>g[n]+weight:\n",
    "                        g[m]=g[n]+weight\n",
    "                        parents[m]=n\n",
    "                    if m is closed_set:\n",
    "                        closed_set.remove(m)\n",
    "                        open_set.add(m)\n",
    "        if n==None:\n",
    "            print('path doesnt exist')\n",
    "            return None\n",
    "        if n==stop_node:\n",
    "            path=[]\n",
    "            while parents[n]!=n:\n",
    "                path.append(n)\n",
    "                n=parents[n]\n",
    "            path.append(start_node)\n",
    "            path.reverse()\n",
    "            print('path found in :{}'.format(path))\n",
    "            return path\n",
    "        open_set.remove(n)\n",
    "        closed_set.add(n)\n",
    "    print('path doesnt exist')\n",
    "    return None\n",
    "\n",
    "    \n",
    "def get_neighbors(v):\n",
    "    if v in graph_nodes:\n",
    "        return graph_nodes[v]\n",
    "    else:\n",
    "        return None\n",
    "    \n",
    "def heuristic(n):\n",
    "    H_dist={\n",
    "        'A':11,\n",
    "        'B':6,\n",
    "        'C':99,\n",
    "        'D':1,\n",
    "        'E':7,\n",
    "        'G':0,\n",
    "    }\n",
    "    return H_dist[n]\n",
    "\n",
    "graph_nodes={\n",
    "    'A':[('B',2),('E',3)],\n",
    "    'B':[('C',1),('G',9)],\n",
    "    'C':None,\n",
    "    'E':[('D',6)],\n",
    "    'D':[('G',1)],\n",
    "}\n",
    "\n",
    "astaralgo('A','G')"
   ]
  },
  {
   "cell_type": "markdown",
   "metadata": {},
   "source": [
    "## Same heuristic Value"
   ]
  },
  {
   "cell_type": "code",
   "execution_count": 16,
   "metadata": {},
   "outputs": [
    {
     "name": "stdout",
     "output_type": "stream",
     "text": [
      "path found in :['A', 'E', 'D', 'G']\n"
     ]
    },
    {
     "data": {
      "text/plain": [
       "['A', 'E', 'D', 'G']"
      ]
     },
     "execution_count": 16,
     "metadata": {},
     "output_type": "execute_result"
    }
   ],
   "source": [
    "def astaralgo(start_node,stop_node):\n",
    "    open_set = set(start_node)\n",
    "    closed_set = set()\n",
    "    g = {}\n",
    "    parents = {}\n",
    "    g[start_node] = 0\n",
    "    parents[start_node] = start_node\n",
    "    \n",
    "    while len(open_set)>0:\n",
    "        n=None\n",
    "        for v in open_set:\n",
    "            if n==None or g[v]+heuristic(v)<g[n]+heuristic(n):\n",
    "                n=v\n",
    "        if n==stop_node or graph_nodes[n]==None:\n",
    "            pass\n",
    "        else:\n",
    "            for(m,weight) in get_neighbors(n):\n",
    "                if m not in open_set and m not in closed_set:\n",
    "                    open_set.add(m)\n",
    "                    parents[m]=n\n",
    "                    g[m]=g[n]+weight\n",
    "                else:\n",
    "                    if g[m]>g[n]+weight:\n",
    "                        g[m]=g[n]+weight\n",
    "                        parents[m]=n\n",
    "                    if m is closed_set:\n",
    "                        closed_set.remove(m)\n",
    "                        open_set.add(m)\n",
    "        if n==None:\n",
    "            print('path doesnt exist')\n",
    "            return None\n",
    "        if n==stop_node:\n",
    "            path=[]\n",
    "            while parents[n]!=n:\n",
    "                path.append(n)\n",
    "                n=parents[n]\n",
    "            path.append(start_node)\n",
    "            path.reverse()\n",
    "            print('path found in :{}'.format(path))\n",
    "            return path\n",
    "        open_set.remove(n)\n",
    "        closed_set.add(n)\n",
    "    print('path doesnt exist')\n",
    "    return None\n",
    "\n",
    "    \n",
    "def get_neighbors(v):\n",
    "    if v in graph_nodes:\n",
    "        return graph_nodes[v]\n",
    "    else:\n",
    "        return None\n",
    "    \n",
    "def heuristic(n):\n",
    "    H_dist={\n",
    "        'A':11,\n",
    "        'B':11,\n",
    "        'C':11,\n",
    "        'D':11,\n",
    "        'E':11,\n",
    "        'G':11,\n",
    "    }\n",
    "    return H_dist[n]\n",
    "\n",
    "graph_nodes={\n",
    "    'A':[('B',2),('E',3)],\n",
    "    'B':[('C',1),('G',9)],\n",
    "    'C':None,\n",
    "    'E':[('D',6)],\n",
    "    'D':[('G',1)],\n",
    "}\n",
    "\n",
    "astaralgo('A','G')"
   ]
  },
  {
   "cell_type": "markdown",
   "metadata": {},
   "source": [
    "## Changed heuristic Value"
   ]
  },
  {
   "cell_type": "code",
   "execution_count": 17,
   "metadata": {},
   "outputs": [
    {
     "name": "stdout",
     "output_type": "stream",
     "text": [
      "path found in :['A', 'B', 'G']\n"
     ]
    },
    {
     "data": {
      "text/plain": [
       "['A', 'B', 'G']"
      ]
     },
     "execution_count": 17,
     "metadata": {},
     "output_type": "execute_result"
    }
   ],
   "source": [
    "def astaralgo(start_node,stop_node):\n",
    "    open_set = set(start_node)\n",
    "    closed_set = set()\n",
    "    g = {}\n",
    "    parents = {}\n",
    "    g[start_node] = 0\n",
    "    parents[start_node] = start_node\n",
    "    \n",
    "    while len(open_set)>0:\n",
    "        n=None\n",
    "        for v in open_set:\n",
    "            if n==None or g[v]+heuristic(v)<g[n]+heuristic(n):\n",
    "                n=v\n",
    "        if n==stop_node or graph_nodes[n]==None:\n",
    "            pass\n",
    "        else:\n",
    "            for(m,weight) in get_neighbors(n):\n",
    "                if m not in open_set and m not in closed_set:\n",
    "                    open_set.add(m)\n",
    "                    parents[m]=n\n",
    "                    g[m]=g[n]+weight\n",
    "                else:\n",
    "                    if g[m]>g[n]+weight:\n",
    "                        g[m]=g[n]+weight\n",
    "                        parents[m]=n\n",
    "                    if m is closed_set:\n",
    "                        closed_set.remove(m)\n",
    "                        open_set.add(m)\n",
    "        if n==None:\n",
    "            print('path doesnt exist')\n",
    "            return None\n",
    "        if n==stop_node:\n",
    "            path=[]\n",
    "            while parents[n]!=n:\n",
    "                path.append(n)\n",
    "                n=parents[n]\n",
    "            path.append(start_node)\n",
    "            path.reverse()\n",
    "            print('path found in :{}'.format(path))\n",
    "            return path\n",
    "        open_set.remove(n)\n",
    "        closed_set.add(n)\n",
    "    print('path doesnt exist')\n",
    "    return None\n",
    "\n",
    "    \n",
    "def get_neighbors(v):\n",
    "    if v in graph_nodes:\n",
    "        return graph_nodes[v]\n",
    "    else:\n",
    "        return None\n",
    "    \n",
    "def heuristic(n):\n",
    "    H_dist={\n",
    "        'A':3,\n",
    "        'B':2,\n",
    "        'C':99,\n",
    "        'D':0,\n",
    "        'E':21,\n",
    "        'G':10,\n",
    "    }\n",
    "    return H_dist[n]\n",
    "\n",
    "graph_nodes={\n",
    "    'A':[('B',2),('E',3)],\n",
    "    'B':[('C',1),('G',9)],\n",
    "    'C':None,\n",
    "    'E':[('D',6)],\n",
    "    'D':[('G',1)],\n",
    "}\n",
    "\n",
    "astaralgo('A','G')"
   ]
  }
 ],
 "metadata": {
  "kernelspec": {
   "display_name": "Python 3",
   "language": "python",
   "name": "python3"
  },
  "language_info": {
   "codemirror_mode": {
    "name": "ipython",
    "version": 3
   },
   "file_extension": ".py",
   "mimetype": "text/x-python",
   "name": "python",
   "nbconvert_exporter": "python",
   "pygments_lexer": "ipython3",
   "version": "3.6.5"
  }
 },
 "nbformat": 4,
 "nbformat_minor": 2
}
