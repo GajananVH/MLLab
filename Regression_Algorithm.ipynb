{
 "cells": [
  {
   "cell_type": "code",
   "execution_count": 19,
   "metadata": {},
   "outputs": [],
   "source": [
    "import numpy as np\n",
    "import pandas as pd\n",
    "import matplotlib.pyplot as plt"
   ]
  },
  {
   "cell_type": "code",
   "execution_count": 20,
   "metadata": {},
   "outputs": [],
   "source": [
    "# kernel smoothing function\n",
    "def kernel(point, xmat, k):\n",
    "    m,n = np.shape(xmat)\n",
    "    weights = np.mat(np.eye((m)))\n",
    "\n",
    "    for j in range(m):\n",
    "        diff = point - X[j]\n",
    "        weights[j, j] = np.exp(diff * diff.T / (-2.0 * k**2))\n",
    "\n",
    "    return weights"
   ]
  },
  {
   "cell_type": "code",
   "execution_count": 21,
   "metadata": {},
   "outputs": [],
   "source": [
    "# function to return local weight of eah traiining example\n",
    "def localWeight(point, xmat, ymat, k):\n",
    "    wt = kernel(point, xmat, k)\n",
    "    W = (X.T * (wt*X)).I * (X.T * wt * ymat.T)\n",
    "    return W"
   ]
  },
  {
   "cell_type": "code",
   "execution_count": 22,
   "metadata": {},
   "outputs": [],
   "source": [
    "# root function that drives the algorithm\n",
    "def localWeightRegression(xmat, ymat, k):\n",
    "    m,n = np.shape(xmat)\n",
    "    ypred = np.zeros(m)\n",
    "\n",
    "    for i in range(m):\n",
    "        ypred[i] = xmat[i] * localWeight(xmat[i], xmat, ymat, k)\n",
    "\n",
    "    return ypred"
   ]
  },
  {
   "cell_type": "code",
   "execution_count": 23,
   "metadata": {},
   "outputs": [
    {
     "name": "stdout",
     "output_type": "stream",
     "text": [
      "     total_bill   tip  gender smoker   day    time  size\n",
      "0         16.99  1.01  Female     No   Sun  Dinner     2\n",
      "1         10.34  1.66    Male     No   Sun  Dinner     3\n",
      "2         21.01  3.50    Male     No   Sun  Dinner     3\n",
      "3         23.68  3.31    Male     No   Sun  Dinner     2\n",
      "4         24.59  3.61  Female     No   Sun  Dinner     4\n",
      "5         25.29  4.71    Male     No   Sun  Dinner     4\n",
      "6          8.77  2.00    Male     No   Sun  Dinner     2\n",
      "7         26.88  3.12    Male     No   Sun  Dinner     4\n",
      "8         15.04  1.96    Male     No   Sun  Dinner     2\n",
      "9         14.78  3.23    Male     No   Sun  Dinner     2\n",
      "10        10.27  1.71    Male     No   Sun  Dinner     2\n",
      "11        35.26  5.00  Female     No   Sun  Dinner     4\n",
      "12        15.42  1.57    Male     No   Sun  Dinner     2\n",
      "13        18.43  3.00    Male     No   Sun  Dinner     4\n",
      "14        14.83  3.02  Female     No   Sun  Dinner     2\n",
      "15        21.58  3.92    Male     No   Sun  Dinner     2\n",
      "16        10.33  1.67  Female     No   Sun  Dinner     3\n",
      "17        16.29  3.71    Male     No   Sun  Dinner     3\n",
      "18        16.97  3.50  Female     No   Sun  Dinner     3\n",
      "19        20.65  3.35    Male     No   Sat  Dinner     3\n",
      "20        17.92  4.08    Male     No   Sat  Dinner     2\n",
      "21        20.29  2.75  Female     No   Sat  Dinner     2\n",
      "22        15.77  2.23  Female     No   Sat  Dinner     2\n",
      "23        39.42  7.58    Male     No   Sat  Dinner     4\n",
      "24        19.82  3.18    Male     No   Sat  Dinner     2\n",
      "25        17.81  2.34    Male     No   Sat  Dinner     4\n",
      "26        13.37  2.00    Male     No   Sat  Dinner     2\n",
      "27        12.69  2.00    Male     No   Sat  Dinner     2\n",
      "28        21.70  4.30    Male     No   Sat  Dinner     2\n",
      "29        19.65  3.00  Female     No   Sat  Dinner     2\n",
      "..          ...   ...     ...    ...   ...     ...   ...\n",
      "214       28.17  6.50  Female    Yes   Sat  Dinner     3\n",
      "215       12.90  1.10  Female    Yes   Sat  Dinner     2\n",
      "216       28.15  3.00    Male    Yes   Sat  Dinner     5\n",
      "217       11.59  1.50    Male    Yes   Sat  Dinner     2\n",
      "218        7.74  1.44    Male    Yes   Sat  Dinner     2\n",
      "219       30.14  3.09  Female    Yes   Sat  Dinner     4\n",
      "220       12.16  2.20    Male    Yes   Fri   Lunch     2\n",
      "221       13.42  3.48  Female    Yes   Fri   Lunch     2\n",
      "222        8.58  1.92    Male    Yes   Fri   Lunch     1\n",
      "223       15.98  3.00  Female     No   Fri   Lunch     3\n",
      "224       13.42  1.58    Male    Yes   Fri   Lunch     2\n",
      "225       16.27  2.50  Female    Yes   Fri   Lunch     2\n",
      "226       10.09  2.00  Female    Yes   Fri   Lunch     2\n",
      "227       20.45  3.00    Male     No   Sat  Dinner     4\n",
      "228       13.28  2.72    Male     No   Sat  Dinner     2\n",
      "229       22.12  2.88  Female    Yes   Sat  Dinner     2\n",
      "230       24.01  2.00    Male    Yes   Sat  Dinner     4\n",
      "231       15.69  3.00    Male    Yes   Sat  Dinner     3\n",
      "232       11.61  3.39    Male     No   Sat  Dinner     2\n",
      "233       10.77  1.47    Male     No   Sat  Dinner     2\n",
      "234       15.53  3.00    Male    Yes   Sat  Dinner     2\n",
      "235       10.07  1.25    Male     No   Sat  Dinner     2\n",
      "236       12.60  1.00    Male    Yes   Sat  Dinner     2\n",
      "237       32.83  1.17    Male    Yes   Sat  Dinner     2\n",
      "238       35.83  4.67  Female     No   Sat  Dinner     3\n",
      "239       29.03  5.92    Male     No   Sat  Dinner     3\n",
      "240       27.18  2.00  Female    Yes   Sat  Dinner     2\n",
      "241       22.67  2.00    Male    Yes   Sat  Dinner     2\n",
      "242       17.82  1.75    Male     No   Sat  Dinner     2\n",
      "243       18.78  3.00  Female     No  Thur  Dinner     2\n",
      "\n",
      "[244 rows x 7 columns]\n"
     ]
    }
   ],
   "source": [
    "df = pd.read_csv('tips.csv - tips.csv')\n",
    "print(df)"
   ]
  },
  {
   "cell_type": "code",
   "execution_count": 24,
   "metadata": {},
   "outputs": [
    {
     "data": {
      "text/plain": [
       "(244, 7)"
      ]
     },
     "execution_count": 24,
     "metadata": {},
     "output_type": "execute_result"
    }
   ],
   "source": [
    "df.shape"
   ]
  },
  {
   "cell_type": "code",
   "execution_count": 25,
   "metadata": {},
   "outputs": [],
   "source": [
    "bill = np.array(df.total_bill)\n",
    "tip = np.array(df.tip)"
   ]
  },
  {
   "cell_type": "code",
   "execution_count": 26,
   "metadata": {},
   "outputs": [],
   "source": [
    "mbill=np.mat(bill)\n",
    "mtip=np.mat(tip)\n"
   ]
  },
  {
   "cell_type": "code",
   "execution_count": 27,
   "metadata": {},
   "outputs": [
    {
     "name": "stdout",
     "output_type": "stream",
     "text": [
      "[[16.99 10.34 21.01 23.68 24.59 25.29  8.77 26.88 15.04 14.78 10.27 35.26\n",
      "  15.42 18.43 14.83 21.58 10.33 16.29 16.97 20.65 17.92 20.29 15.77 39.42\n",
      "  19.82 17.81 13.37 12.69 21.7  19.65  9.55 18.35 15.06 20.69 17.78 24.06\n",
      "  16.31 16.93 18.69 31.27 16.04 17.46 13.94  9.68 30.4  18.29 22.23 32.4\n",
      "  28.55 18.04 12.54 10.29 34.81  9.94 25.56 19.49 38.01 26.41 11.24 48.27\n",
      "  20.29 13.81 11.02 18.29 17.59 20.08 16.45  3.07 20.23 15.01 12.02 17.07\n",
      "  26.86 25.28 14.73 10.51 17.92 27.2  22.76 17.29 19.44 16.66 10.07 32.68\n",
      "  15.98 34.83 13.03 18.28 24.71 21.16 28.97 22.49  5.75 16.32 22.75 40.17\n",
      "  27.28 12.03 21.01 12.46 11.35 15.38 44.3  22.42 20.92 15.36 20.49 25.21\n",
      "  18.24 14.31 14.    7.25 38.07 23.95 25.71 17.31 29.93 10.65 12.43 24.08\n",
      "  11.69 13.42 14.26 15.95 12.48 29.8   8.52 14.52 11.38 22.82 19.08 20.27\n",
      "  11.17 12.26 18.26  8.51 10.33 14.15 16.   13.16 17.47 34.3  41.19 27.05\n",
      "  16.43  8.35 18.64 11.87  9.78  7.51 14.07 13.13 17.26 24.55 19.77 29.85\n",
      "  48.17 25.   13.39 16.49 21.5  12.66 16.21 13.81 17.51 24.52 20.76 31.71\n",
      "  10.59 10.63 50.81 15.81  7.25 31.85 16.82 32.9  17.89 14.48  9.6  34.63\n",
      "  34.65 23.33 45.35 23.17 40.55 20.69 20.9  30.46 18.15 23.1  15.69 19.81\n",
      "  28.44 15.48 16.58  7.56 10.34 43.11 13.   13.51 18.71 12.74 13.   16.4\n",
      "  20.53 16.47 26.59 38.73 24.27 12.76 30.06 25.89 48.33 13.27 28.17 12.9\n",
      "  28.15 11.59  7.74 30.14 12.16 13.42  8.58 15.98 13.42 16.27 10.09 20.45\n",
      "  13.28 22.12 24.01 15.69 11.61 10.77 15.53 10.07 12.6  32.83 35.83 29.03\n",
      "  27.18 22.67 17.82 18.78]]\n"
     ]
    }
   ],
   "source": [
    "print(mbill)\n"
   ]
  },
  {
   "cell_type": "code",
   "execution_count": 28,
   "metadata": {},
   "outputs": [
    {
     "name": "stdout",
     "output_type": "stream",
     "text": [
      "[[ 1.01  1.66  3.5   3.31  3.61  4.71  2.    3.12  1.96  3.23  1.71  5.\n",
      "   1.57  3.    3.02  3.92  1.67  3.71  3.5   3.35  4.08  2.75  2.23  7.58\n",
      "   3.18  2.34  2.    2.    4.3   3.    1.45  2.5   3.    2.45  3.27  3.6\n",
      "   2.    3.07  2.31  5.    2.24  2.54  3.06  1.32  5.6   3.    5.    6.\n",
      "   2.05  3.    2.5   2.6   5.2   1.56  4.34  3.51  3.    1.5   1.76  6.73\n",
      "   3.21  2.    1.98  3.76  2.64  3.15  2.47  1.    2.01  2.09  1.97  3.\n",
      "   3.14  5.    2.2   1.25  3.08  4.    3.    2.71  3.    3.4   1.83  5.\n",
      "   2.03  5.17  2.    4.    5.85  3.    3.    3.5   1.    4.3   3.25  4.73\n",
      "   4.    1.5   3.    1.5   2.5   3.    2.5   3.48  4.08  1.64  4.06  4.29\n",
      "   3.76  4.    3.    1.    4.    2.55  4.    3.5   5.07  1.5   1.8   2.92\n",
      "   2.31  1.68  2.5   2.    2.52  4.2   1.48  2.    2.    2.18  1.5   2.83\n",
      "   1.5   2.    3.25  1.25  2.    2.    2.    2.75  3.5   6.7   5.    5.\n",
      "   2.3   1.5   1.36  1.63  1.73  2.    2.5   2.    2.74  2.    2.    5.14\n",
      "   5.    3.75  2.61  2.    3.5   2.5   2.    2.    3.    3.48  2.24  4.5\n",
      "   1.61  2.   10.    3.16  5.15  3.18  4.    3.11  2.    2.    4.    3.55\n",
      "   3.68  5.65  3.5   6.5   3.    5.    3.5   2.    3.5   4.    1.5   4.19\n",
      "   2.56  2.02  4.    1.44  2.    5.    2.    2.    4.    2.01  2.    2.5\n",
      "   4.    3.23  3.41  3.    2.03  2.23  2.    5.16  9.    2.5   6.5   1.1\n",
      "   3.    1.5   1.44  3.09  2.2   3.48  1.92  3.    1.58  2.5   2.    3.\n",
      "   2.72  2.88  2.    3.    3.39  1.47  3.    1.25  1.    1.17  4.67  5.92\n",
      "   2.    2.    1.75  3.  ]]\n"
     ]
    }
   ],
   "source": [
    "print(mtip)"
   ]
  },
  {
   "cell_type": "code",
   "execution_count": 36,
   "metadata": {},
   "outputs": [
    {
     "name": "stdout",
     "output_type": "stream",
     "text": [
      "(244, 2)\n"
     ]
    }
   ],
   "source": [
    "m = np.shape(mtip)[1]\n",
    "one = np.ones((1, m), dtype = int)\n",
    "# horizontal stacking\n",
    "X = np.hstack((one.T, mbill.T))\n",
    "print(X.shape)"
   ]
  },
  {
   "cell_type": "code",
   "execution_count": 50,
   "metadata": {},
   "outputs": [
    {
     "data": {
      "image/png": "[encoded data removed]",
      "text/plain": [
       "<Figure size 432x288 with 1 Axes>"
      ]
     },
     "metadata": {},
     "output_type": "display_data"
    }
   ],
   "source": [
    "# predicting values using LWLR\n",
    "ypred = localWeightRegression(X, mtip, 0.8)\n",
    "# plotting the predicted graph\n",
    "xsort = X.copy()\n",
    "xsort.sort(axis=0)\n",
    "plt.scatter(bill, tip, color='blue')\n",
    "plt.plot(xsort[:, 1], ypred[X[:, 1].argsort(0)], color='red', linewidth=5)\n",
    "plt.xlabel('Total Bill')\n",
    "plt.ylabel('Tip')\n",
    "plt.show()"
   ]
  }
 ],
 "metadata": {
  "kernelspec": {
   "display_name": "Python 3",
   "language": "python",
   "name": "python3"
  },
  "language_info": {
   "codemirror_mode": {
    "name": "ipython",
    "version": 3
   },
   "file_extension": ".py",
   "mimetype": "text/x-python",
   "name": "python",
   "nbconvert_exporter": "python",
   "pygments_lexer": "ipython3",
   "version": "3.6.5"
  }
 },
 "nbformat": 4,
 "nbformat_minor": 2
}
